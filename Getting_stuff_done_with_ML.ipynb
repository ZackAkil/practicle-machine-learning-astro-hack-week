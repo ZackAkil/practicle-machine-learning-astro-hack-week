{
  "nbformat": 4,
  "nbformat_minor": 0,
  "metadata": {
    "colab": {
      "name": "Getting stuff done with ML.ipynb",
      "version": "0.3.2",
      "provenance": [],
      "collapsed_sections": [],
      "include_colab_link": true
    },
    "kernelspec": {
      "name": "python3",
      "display_name": "Python 3"
    }
  },
  "cells": [
    {
      "cell_type": "markdown",
      "metadata": {
        "id": "view-in-github",
        "colab_type": "text"
      },
      "source": [
        "[View in Colaboratory](https://colab.research.google.com/github/ZackAkil/practicle-machine-learning-astro-hack-week/blob/master/Getting_stuff_done_with_ML.ipynb)"
      ]
    },
    {
      "metadata": {
        "id": "Ampwdcuo63Ot",
        "colab_type": "text"
      },
      "cell_type": "markdown",
      "source": [
        "# Getting stuff done with machine learning\n",
        "Practical approach to solving problems with learning machine.\n",
        "\n",
        "![alt text](https://media.giphy.com/media/Qc1GoESZuKCS4/giphy.gif)\n",
        "\n",
        "**DISCLAIMER:** We are going to look at how you might go about solving problems in the wild, not nessasarily stuff that makes good achedemic papers #YOLOv3."
      ]
    },
    {
      "metadata": {
        "id": "KajzujAf8-sU",
        "colab_type": "text"
      },
      "cell_type": "markdown",
      "source": [
        "## Maybe useful guideline #1\n",
        "\n",
        "*<h1 style=\"font-size\"> \"Know your environment\" </h1>*\n",
        "\n",
        "A lot of the issues you will face in data science tend to be becuase you either running the wrong version of a library, or python, or a library that dosn't exist.\n",
        "\n",
        "Check what version of python your on by running:\n",
        "\n",
        "```python\n",
        "import sys\n",
        "sys.version\n",
        "```\n"
      ]
    },
    {
      "metadata": {
        "id": "RJIM7mlD--di",
        "colab_type": "code",
        "colab": {
          "base_uri": "https://localhost:8080/",
          "height": 34
        },
        "outputId": "b61c51ea-52e0-4786-84e2-82b39829728b"
      },
      "cell_type": "code",
      "source": [
        "# your code goes here. press the ▷ button to the left of the code to run the cell, \n",
        "# or 'ctrl + enter' to runn just this cell, or 'shift + enter' to run this cell and move focus to next cell\n",
        "\n",
        "import sys\n",
        "sys.version"
      ],
      "execution_count": 7,
      "outputs": [
        {
          "output_type": "execute_result",
          "data": {
            "text/plain": [
              "'3.6.3 (default, Oct  3 2017, 21:45:48) \\n[GCC 7.2.0]'"
            ]
          },
          "metadata": {
            "tags": []
          },
          "execution_count": 7
        }
      ]
    },
    {
      "metadata": {
        "id": "q6o96cZ8AO6f",
        "colab_type": "text"
      },
      "cell_type": "markdown",
      "source": [
        "You can run bash/terminal commands by prefixing code with a ** ! **\n",
        "\n",
        "pip is your favourite python package manager/installer\n",
        "\n",
        "see what all of the libraries you have are by running:\n",
        "\n",
        "```bash\n",
        "! pip freeze\n",
        "```"
      ]
    },
    {
      "metadata": {
        "id": "Z2yb0x2B-2Ys",
        "colab_type": "code",
        "colab": {
          "base_uri": "https://localhost:8080/",
          "height": 1904
        },
        "outputId": "73186ba5-8380-4815-853d-8d3458107fa7"
      },
      "cell_type": "code",
      "source": [
        "# your code goes here\n",
        "\n",
        "! pip freeze "
      ],
      "execution_count": 9,
      "outputs": [
        {
          "output_type": "stream",
          "text": [
            "absl-py==0.3.0\r\n",
            "altair==2.1.0\r\n",
            "astor==0.7.1\r\n",
            "beautifulsoup4==4.6.1\r\n",
            "bleach==2.1.3\r\n",
            "cachetools==2.1.0\r\n",
            "certifi==2018.4.16\r\n",
            "chardet==3.0.4\r\n",
            "crcmod==1.7\r\n",
            "cycler==0.10.0\r\n",
            "decorator==4.3.0\r\n",
            "entrypoints==0.2.3\r\n",
            "future==0.16.0\r\n",
            "gast==0.2.0\r\n",
            "google-api-core==1.3.0\r\n",
            "google-api-python-client==1.6.7\r\n",
            "google-auth==1.4.2\r\n",
            "google-auth-httplib2==0.0.3\r\n",
            "google-auth-oauthlib==0.2.0\r\n",
            "google-cloud-bigquery==1.1.0\r\n",
            "google-cloud-core==0.28.1\r\n",
            "google-cloud-language==1.0.2\r\n",
            "google-cloud-storage==1.8.0\r\n",
            "google-cloud-translate==1.3.1\r\n",
            "google-colab==0.0.1a1\r\n",
            "google-resumable-media==0.3.1\r\n",
            "googleapis-common-protos==1.5.3\r\n",
            "grpcio==1.14.0\r\n",
            "h5py==2.8.0\r\n",
            "html5lib==1.0.1\r\n",
            "httplib2==0.11.3\r\n",
            "idna==2.6\r\n",
            "ipykernel==4.6.1\r\n",
            "ipython==5.5.0\r\n",
            "ipython-genutils==0.2.0\r\n",
            "Jinja2==2.10\r\n",
            "jsonschema==2.6.0\r\n",
            "jupyter-client==5.2.3\r\n",
            "jupyter-core==4.4.0\r\n",
            "Keras==2.1.6\r\n",
            "Markdown==2.6.11\r\n",
            "MarkupSafe==1.0\r\n",
            "matplotlib==2.1.2\r\n",
            "mistune==0.8.3\r\n",
            "mpmath==1.0.0\r\n",
            "nbconvert==5.3.1\r\n",
            "nbformat==4.4.0\r\n",
            "networkx==2.1\r\n",
            "nltk==3.2.5\r\n",
            "notebook==5.2.2\r\n",
            "numpy==1.14.5\r\n",
            "oauth2client==4.1.2\r\n",
            "oauthlib==2.1.0\r\n",
            "olefile==0.45.1\r\n",
            "opencv-python==3.4.2.17\r\n",
            "packaging==17.1\r\n",
            "pandas==0.22.0\r\n",
            "pandas-gbq==0.4.1\r\n",
            "pandocfilters==1.4.2\r\n",
            "patsy==0.5.0\r\n",
            "pexpect==4.6.0\r\n",
            "pickleshare==0.7.4\r\n",
            "Pillow==4.0.0\r\n",
            "plotly==1.12.12\r\n",
            "pluggy==0.7.1\r\n",
            "portpicker==1.2.0\r\n",
            "prompt-toolkit==1.0.15\r\n",
            "protobuf==3.6.0\r\n",
            "psutil==5.4.6\r\n",
            "ptyprocess==0.6.0\r\n",
            "py==1.5.4\r\n",
            "pyasn1==0.4.4\r\n",
            "pyasn1-modules==0.2.2\r\n",
            "Pygments==2.1.3\r\n",
            "pyparsing==2.2.0\r\n",
            "pystache==0.5.4\r\n",
            "python-dateutil==2.5.3\r\n",
            "pytz==2018.5\r\n",
            "PyWavelets==0.5.2\r\n",
            "PyYAML==3.13\r\n",
            "pyzmq==16.0.4\r\n",
            "requests==2.18.4\r\n",
            "requests-oauthlib==1.0.0\r\n",
            "rsa==3.4.2\r\n",
            "scikit-image==0.13.1\r\n",
            "scikit-learn==0.19.2\r\n",
            "scipy==0.19.1\r\n",
            "seaborn==0.7.1\r\n",
            "simplegeneric==0.8.1\r\n",
            "six==1.11.0\r\n",
            "statsmodels==0.8.0\r\n",
            "sympy==1.1.1\r\n",
            "tensorboard==1.10.0\r\n",
            "tensorflow==1.10.0rc1\r\n",
            "tensorflow-hub==0.1.1\r\n",
            "termcolor==1.1.0\r\n",
            "terminado==0.8.1\r\n",
            "testpath==0.3.1\r\n",
            "toolz==0.9.0\r\n",
            "tornado==4.5.3\r\n",
            "tox==3.1.3\r\n",
            "traitlets==4.3.2\r\n",
            "typing==3.6.4\r\n",
            "uritemplate==3.0.0\r\n",
            "urllib3==1.22\r\n",
            "vega-datasets==0.5.0\r\n",
            "virtualenv==16.0.0\r\n",
            "wcwidth==0.1.7\r\n",
            "webencodings==0.5.1\r\n",
            "Werkzeug==0.14.1\r\n",
            "xgboost==0.7.post4\r\n"
          ],
          "name": "stdout"
        }
      ]
    },
    {
      "metadata": {
        "id": "7_mpOGT3BjpX",
        "colab_type": "text"
      },
      "cell_type": "markdown",
      "source": [
        "# \"*ModuleNotFoundError*\" is  your friend\n",
        "\n",
        "Let's make a venn diagram:\n",
        "\n",
        "```python\n",
        "from matplotlib_venn import venn2\n",
        "venn2(subsets = (3, 2, 1))\n",
        "```"
      ]
    },
    {
      "metadata": {
        "id": "HLYQKfYYBe3g",
        "colab_type": "code",
        "colab": {
          "base_uri": "https://localhost:8080/",
          "height": 339
        },
        "outputId": "b9cddaf7-63e2-4f5b-8d04-6dfeb6d3b0d1"
      },
      "cell_type": "code",
      "source": [
        "# your code goes here\n",
        "\n",
        "from matplotlib_venn import venn2\n",
        "venn2(subsets = (3, 2, 1))\n"
      ],
      "execution_count": 56,
      "outputs": [
        {
          "output_type": "error",
          "ename": "ModuleNotFoundError",
          "evalue": "ignored",
          "traceback": [
            "\u001b[0;31m---------------------------------------------------------------------------\u001b[0m",
            "\u001b[0;31mModuleNotFoundError\u001b[0m                       Traceback (most recent call last)",
            "\u001b[0;32m<ipython-input-56-5588081a7a69>\u001b[0m in \u001b[0;36m<module>\u001b[0;34m()\u001b[0m\n\u001b[1;32m      1\u001b[0m \u001b[0;34m\u001b[0m\u001b[0m\n\u001b[0;32m----> 2\u001b[0;31m \u001b[0;32mfrom\u001b[0m \u001b[0mmatplotlib_venn\u001b[0m \u001b[0;32mimport\u001b[0m \u001b[0mvenn2\u001b[0m\u001b[0;34m\u001b[0m\u001b[0m\n\u001b[0m\u001b[1;32m      3\u001b[0m \u001b[0mvenn2\u001b[0m\u001b[0;34m(\u001b[0m\u001b[0msubsets\u001b[0m \u001b[0;34m=\u001b[0m \u001b[0;34m(\u001b[0m\u001b[0;36m3\u001b[0m\u001b[0;34m,\u001b[0m \u001b[0;36m2\u001b[0m\u001b[0;34m,\u001b[0m \u001b[0;36m1\u001b[0m\u001b[0;34m)\u001b[0m\u001b[0;34m)\u001b[0m\u001b[0;34m\u001b[0m\u001b[0m\n",
            "\u001b[0;31mModuleNotFoundError\u001b[0m: No module named 'matplotlib_venn'",
            "",
            "\u001b[0;31m---------------------------------------------------------------------------\u001b[0;32m\nNOTE: If your import is failing due to a missing package, you can\nmanually install dependencies using either !pip or !apt.\n\nTo view examples of installing some common dependencies, click the\n\"Open Examples\" button below.\n\u001b[0;31m---------------------------------------------------------------------------\u001b[0m\n"
          ]
        }
      ]
    },
    {
      "metadata": {
        "id": "fJiRDGOZCi3S",
        "colab_type": "text"
      },
      "cell_type": "markdown",
      "source": [
        "# DON'T PANIC\n",
        "\n",
        "We can just install the package now:\n",
        "\n",
        "```bash\n",
        "!pip install matplotlib-venn\n",
        "```"
      ]
    },
    {
      "metadata": {
        "id": "l33wBv2U9Z5H",
        "colab_type": "code",
        "colab": {
          "base_uri": "https://localhost:8080/",
          "height": 332
        },
        "outputId": "3077acea-3403-40a5-f1f2-ff071e6851e5"
      },
      "cell_type": "code",
      "source": [
        "# your code goes here\n",
        "\n",
        "!pip install matplotlib-venn"
      ],
      "execution_count": 57,
      "outputs": [
        {
          "output_type": "stream",
          "text": [
            "Collecting matplotlib-venn\n",
            "\u001b[?25l  Downloading https://files.pythonhosted.org/packages/c7/05/e084c8331ff7ab8b0e01c7cdb7c18854852340bf3096193510c902ffa1f1/matplotlib-venn-0.11.5.zip (40kB)\n",
            "\u001b[K    100% |████████████████████████████████| 40kB 3.3MB/s \n",
            "\u001b[?25hRequirement already satisfied: matplotlib in /usr/local/lib/python3.6/dist-packages (from matplotlib-venn) (2.1.2)\n",
            "Requirement already satisfied: numpy in /usr/local/lib/python3.6/dist-packages (from matplotlib-venn) (1.14.5)\n",
            "Requirement already satisfied: scipy in /usr/local/lib/python3.6/dist-packages (from matplotlib-venn) (0.19.1)\n",
            "Requirement already satisfied: six>=1.10 in /usr/local/lib/python3.6/dist-packages (from matplotlib->matplotlib-venn) (1.11.0)\n",
            "Requirement already satisfied: cycler>=0.10 in /usr/local/lib/python3.6/dist-packages (from matplotlib->matplotlib-venn) (0.10.0)\n",
            "Requirement already satisfied: pyparsing!=2.0.4,!=2.1.2,!=2.1.6,>=2.0.1 in /usr/local/lib/python3.6/dist-packages (from matplotlib->matplotlib-venn) (2.2.0)\n",
            "Requirement already satisfied: pytz in /usr/local/lib/python3.6/dist-packages (from matplotlib->matplotlib-venn) (2018.5)\n",
            "Requirement already satisfied: python-dateutil>=2.1 in /usr/local/lib/python3.6/dist-packages (from matplotlib->matplotlib-venn) (2.5.3)\n",
            "Building wheels for collected packages: matplotlib-venn\n",
            "  Running setup.py bdist_wheel for matplotlib-venn ... \u001b[?25l-\b \b\\\b \bdone\n",
            "\u001b[?25h  Stored in directory: /content/.cache/pip/wheels/d8/88/2f/e41518cb16e58109e8d14dc5dd7ef8166c82dce86c7c6d6c80\n",
            "Successfully built matplotlib-venn\n",
            "Installing collected packages: matplotlib-venn\n",
            "Successfully installed matplotlib-venn-0.11.5\n"
          ],
          "name": "stdout"
        }
      ]
    },
    {
      "metadata": {
        "id": "uS885gZcDJd-",
        "colab_type": "text"
      },
      "cell_type": "markdown",
      "source": [
        "Ok, now that the package is installed, you can try the venn code again:\n",
        "\n",
        "```python\n",
        "from matplotlib_venn import venn2\n",
        "venn2(subsets = (3, 2, 1))\n",
        "```"
      ]
    },
    {
      "metadata": {
        "id": "TsgQ3aGj9ba8",
        "colab_type": "code",
        "colab": {
          "base_uri": "https://localhost:8080/",
          "height": 348
        },
        "outputId": "2c5a08e6-a314-4abf-91bd-d42b5546120c"
      },
      "cell_type": "code",
      "source": [
        "# your code goes here\n",
        "\n",
        "from matplotlib_venn import venn2\n",
        "venn2(subsets = (3, 2, 1))"
      ],
      "execution_count": 58,
      "outputs": [
        {
          "output_type": "execute_result",
          "data": {
            "text/plain": [
              "<matplotlib_venn._common.VennDiagram at 0x7f108d163860>"
            ]
          },
          "metadata": {
            "tags": []
          },
          "execution_count": 58
        },
        {
          "output_type": "display_data",
          "data": {
            "image/png": "[encoded data removed]",
            "text/plain": [
              "<matplotlib.figure.Figure at 0x7f108d101400>"
            ]
          },
          "metadata": {
            "tags": []
          }
        }
      ]
    },
    {
      "metadata": {
        "id": "evYcUAC4DY7n",
        "colab_type": "text"
      },
      "cell_type": "markdown",
      "source": [
        "# Now ML Tasks\n",
        "\n",
        "# Do iris!\n",
        "\n",
        "![alt text](https://cdn-images-1.medium.com/max/1600/1*1q79O5DCx_XNrAARXSFzpg.png)"
      ]
    },
    {
      "metadata": {
        "id": "yxMYi_k6DA48",
        "colab_type": "code",
        "colab": {}
      },
      "cell_type": "code",
      "source": [
        "from sklearn.datasets import load_iris\n",
        "\n",
        "import matplotlib.pyplot as plt"
      ],
      "execution_count": 0,
      "outputs": []
    },
    {
      "metadata": {
        "id": "rf8VNtUrDjA8",
        "colab_type": "code",
        "colab": {
          "base_uri": "https://localhost:8080/",
          "height": 34
        },
        "outputId": "76decc58-579c-4f94-fb8c-6917debbc68f"
      },
      "cell_type": "code",
      "source": [
        "iris = load_iris()\n",
        "\n",
        "iris.keys()"
      ],
      "execution_count": 4,
      "outputs": [
        {
          "output_type": "execute_result",
          "data": {
            "text/plain": [
              "dict_keys(['data', 'target', 'target_names', 'DESCR', 'feature_names'])"
            ]
          },
          "metadata": {
            "tags": []
          },
          "execution_count": 4
        }
      ]
    },
    {
      "metadata": {
        "id": "BaP6bheVErjv",
        "colab_type": "code",
        "colab": {}
      },
      "cell_type": "code",
      "source": [
        "X = iris['data']\n",
        "y = iris['target']\n",
        "\n",
        "# y = np.take(iris['target_names'], iris['target'])"
      ],
      "execution_count": 0,
      "outputs": []
    },
    {
      "metadata": {
        "id": "pEGgVdeSRO-x",
        "colab_type": "text"
      },
      "cell_type": "markdown",
      "source": [
        "We can both split and shuffle our data using sklearns [train_test_split](http://scikit-learn.org/stable/modules/generated/sklearn.model_selection.train_test_split.html) function"
      ]
    },
    {
      "metadata": {
        "id": "C2ZNIofnDlqD",
        "colab_type": "code",
        "colab": {}
      },
      "cell_type": "code",
      "source": [
        "from sklearn.model_selection import train_test_split"
      ],
      "execution_count": 0,
      "outputs": []
    },
    {
      "metadata": {
        "id": "RWMQHFZmEY5E",
        "colab_type": "code",
        "colab": {}
      },
      "cell_type": "code",
      "source": [
        "X_train, X_test, y_train, y_test = train_test_split(X, y, test_size=0.25, random_state=42)"
      ],
      "execution_count": 0,
      "outputs": []
    },
    {
      "metadata": {
        "id": "IrQuwjoNRq1x",
        "colab_type": "text"
      },
      "cell_type": "markdown",
      "source": [
        "Tree algorithms are nice to do quick work becuase they depend less on scaling the data"
      ]
    },
    {
      "metadata": {
        "id": "gbkIlYRZRm9V",
        "colab_type": "code",
        "colab": {}
      },
      "cell_type": "code",
      "source": [
        "from sklearn.tree import DecisionTreeClassifier"
      ],
      "execution_count": 0,
      "outputs": []
    },
    {
      "metadata": {
        "id": "sStCHP5bR7qM",
        "colab_type": "code",
        "colab": {
          "base_uri": "https://localhost:8080/",
          "height": 119
        },
        "outputId": "6677398a-ba6b-428e-df66-d127a35cb0a8"
      },
      "cell_type": "code",
      "source": [
        "model = DecisionTreeClassifier()\n",
        "model.fit(X_train, y_train)"
      ],
      "execution_count": 29,
      "outputs": [
        {
          "output_type": "execute_result",
          "data": {
            "text/plain": [
              "DecisionTreeClassifier(class_weight=None, criterion='gini', max_depth=None,\n",
              "            max_features=None, max_leaf_nodes=None,\n",
              "            min_impurity_decrease=0.0, min_impurity_split=None,\n",
              "            min_samples_leaf=1, min_samples_split=2,\n",
              "            min_weight_fraction_leaf=0.0, presort=False, random_state=None,\n",
              "            splitter='best')"
            ]
          },
          "metadata": {
            "tags": []
          },
          "execution_count": 29
        }
      ]
    },
    {
      "metadata": {
        "id": "kpLp_tTOSDcU",
        "colab_type": "code",
        "colab": {
          "base_uri": "https://localhost:8080/",
          "height": 34
        },
        "outputId": "1a81f253-5a12-4f34-958e-f5c826f29725"
      },
      "cell_type": "code",
      "source": [
        "model.score(X_test, y_test)"
      ],
      "execution_count": 30,
      "outputs": [
        {
          "output_type": "execute_result",
          "data": {
            "text/plain": [
              "1.0"
            ]
          },
          "metadata": {
            "tags": []
          },
          "execution_count": 30
        }
      ]
    },
    {
      "metadata": {
        "id": "I1ri6PdRSHQO",
        "colab_type": "code",
        "colab": {
          "base_uri": "https://localhost:8080/",
          "height": 51
        },
        "outputId": "8558a9c7-a08f-4c07-92ec-7bc0f79afcf0"
      },
      "cell_type": "code",
      "source": [
        "model.predict(X_test)"
      ],
      "execution_count": 31,
      "outputs": [
        {
          "output_type": "execute_result",
          "data": {
            "text/plain": [
              "array([1, 0, 2, 1, 1, 0, 1, 2, 1, 1, 2, 0, 0, 0, 0, 1, 2, 1, 1, 2, 0, 2,\n",
              "       0, 2, 2, 2, 2, 2, 0, 0, 0, 0, 1, 0, 0, 2, 1, 0])"
            ]
          },
          "metadata": {
            "tags": []
          },
          "execution_count": 31
        }
      ]
    },
    {
      "metadata": {
        "id": "L4hz0qEcSoQr",
        "colab_type": "text"
      },
      "cell_type": "markdown",
      "source": [
        "Use numpy [take](https://docs.scipy.org/doc/numpy-1.14.0/reference/generated/numpy.take.html) function to replace numbers with words from a list"
      ]
    },
    {
      "metadata": {
        "id": "QM3L_Q4WSOuw",
        "colab_type": "code",
        "colab": {}
      },
      "cell_type": "code",
      "source": [
        "import numpy as np"
      ],
      "execution_count": 0,
      "outputs": []
    },
    {
      "metadata": {
        "id": "PZvHhu7HSiu5",
        "colab_type": "code",
        "colab": {
          "base_uri": "https://localhost:8080/",
          "height": 34
        },
        "outputId": "9a60e3e1-f2a6-4962-fb06-201948cfd854"
      },
      "cell_type": "code",
      "source": [
        "iris['target_names']"
      ],
      "execution_count": 17,
      "outputs": [
        {
          "output_type": "execute_result",
          "data": {
            "text/plain": [
              "array(['setosa', 'versicolor', 'virginica'], dtype='<U10')"
            ]
          },
          "metadata": {
            "tags": []
          },
          "execution_count": 17
        }
      ]
    },
    {
      "metadata": {
        "id": "4_XKop9kSSiy",
        "colab_type": "code",
        "colab": {
          "base_uri": "https://localhost:8080/",
          "height": 153
        },
        "outputId": "b3e204ec-72ef-4212-a40c-f10e875734b2"
      },
      "cell_type": "code",
      "source": [
        "np.take(iris['target_names'], model.predict(X_test))"
      ],
      "execution_count": 16,
      "outputs": [
        {
          "output_type": "execute_result",
          "data": {
            "text/plain": [
              "array(['versicolor', 'setosa', 'virginica', 'versicolor', 'versicolor',\n",
              "       'setosa', 'versicolor', 'virginica', 'versicolor', 'versicolor',\n",
              "       'virginica', 'setosa', 'setosa', 'setosa', 'setosa', 'versicolor',\n",
              "       'virginica', 'versicolor', 'versicolor', 'virginica', 'setosa',\n",
              "       'virginica', 'setosa', 'virginica', 'virginica', 'virginica',\n",
              "       'virginica', 'virginica', 'setosa', 'setosa', 'setosa', 'setosa',\n",
              "       'versicolor', 'setosa', 'setosa', 'virginica', 'versicolor',\n",
              "       'setosa'], dtype='<U10')"
            ]
          },
          "metadata": {
            "tags": []
          },
          "execution_count": 16
        }
      ]
    },
    {
      "metadata": {
        "id": "0PbP7mDNTssC",
        "colab_type": "text"
      },
      "cell_type": "markdown",
      "source": [
        "# Save our model to use again later"
      ]
    },
    {
      "metadata": {
        "id": "Z_vQ6VcqTr2g",
        "colab_type": "code",
        "colab": {}
      },
      "cell_type": "code",
      "source": [
        "from sklearn.externals import joblib"
      ],
      "execution_count": 0,
      "outputs": []
    },
    {
      "metadata": {
        "id": "pb5HQbHWSa0Y",
        "colab_type": "code",
        "colab": {
          "base_uri": "https://localhost:8080/",
          "height": 34
        },
        "outputId": "e0ef3f08-c919-433a-bc59-dd775f4210b3"
      },
      "cell_type": "code",
      "source": [
        "joblib.dump(model, 'model.joblib')"
      ],
      "execution_count": 33,
      "outputs": [
        {
          "output_type": "execute_result",
          "data": {
            "text/plain": [
              "['model.joblib']"
            ]
          },
          "metadata": {
            "tags": []
          },
          "execution_count": 33
        }
      ]
    },
    {
      "metadata": {
        "id": "rP0NuhBqT6We",
        "colab_type": "code",
        "colab": {
          "base_uri": "https://localhost:8080/",
          "height": 34
        },
        "outputId": "66f0d779-fcf4-4bed-a99b-ba18caf7a256"
      },
      "cell_type": "code",
      "source": [
        "! ls"
      ],
      "execution_count": 34,
      "outputs": [
        {
          "output_type": "stream",
          "text": [
            "datalab  model.joblib\r\n"
          ],
          "name": "stdout"
        }
      ]
    },
    {
      "metadata": {
        "id": "YoeduJNuUA4i",
        "colab_type": "text"
      },
      "cell_type": "markdown",
      "source": [
        "# Load our model"
      ]
    },
    {
      "metadata": {
        "id": "9zCjSuy5T_m1",
        "colab_type": "code",
        "colab": {}
      },
      "cell_type": "code",
      "source": [
        "loaded_model = joblib.load('model.joblib')"
      ],
      "execution_count": 0,
      "outputs": []
    },
    {
      "metadata": {
        "id": "u5cMQLovT7kL",
        "colab_type": "code",
        "colab": {
          "base_uri": "https://localhost:8080/",
          "height": 119
        },
        "outputId": "21a8e31b-b0bf-412f-fe36-fc7006654f4f"
      },
      "cell_type": "code",
      "source": [
        "loaded_model"
      ],
      "execution_count": 36,
      "outputs": [
        {
          "output_type": "execute_result",
          "data": {
            "text/plain": [
              "DecisionTreeClassifier(class_weight=None, criterion='gini', max_depth=None,\n",
              "            max_features=None, max_leaf_nodes=None,\n",
              "            min_impurity_decrease=0.0, min_impurity_split=None,\n",
              "            min_samples_leaf=1, min_samples_split=2,\n",
              "            min_weight_fraction_leaf=0.0, presort=False, random_state=None,\n",
              "            splitter='best')"
            ]
          },
          "metadata": {
            "tags": []
          },
          "execution_count": 36
        }
      ]
    },
    {
      "metadata": {
        "id": "6NaAOrE1UIsF",
        "colab_type": "code",
        "colab": {
          "base_uri": "https://localhost:8080/",
          "height": 34
        },
        "outputId": "d96f7384-7c87-4501-da63-51b997248fa8"
      },
      "cell_type": "code",
      "source": [
        "loaded_model.predict([[1,2,3,4]])"
      ],
      "execution_count": 37,
      "outputs": [
        {
          "output_type": "execute_result",
          "data": {
            "text/plain": [
              "array([2])"
            ]
          },
          "metadata": {
            "tags": []
          },
          "execution_count": 37
        }
      ]
    },
    {
      "metadata": {
        "id": "5St8aw2VUMV3",
        "colab_type": "code",
        "colab": {}
      },
      "cell_type": "code",
      "source": [
        ""
      ],
      "execution_count": 0,
      "outputs": []
    },
    {
      "metadata": {
        "id": "5vkZIVuHUOtP",
        "colab_type": "text"
      },
      "cell_type": "markdown",
      "source": [
        "# How to build a cat classifier (or not)\n",
        "\n",
        "sploiler alert, don't re-invent the wheel, when someone else has already invented a hovercraft\n",
        "\n",
        "https://cloud.google.com/vision/"
      ]
    },
    {
      "metadata": {
        "id": "xYzuZlQ1ZQvk",
        "colab_type": "text"
      },
      "cell_type": "markdown",
      "source": [
        "# Bonus, building Keras\n",
        "Keras is a higher level API that wraps around populare deep learning frameworks like TensorFlow and Theano"
      ]
    },
    {
      "metadata": {
        "id": "d7lfzi9mXMUC",
        "colab_type": "code",
        "colab": {
          "base_uri": "https://localhost:8080/",
          "height": 35
        },
        "outputId": "dc399a64-eecb-4a60-8aba-100087ed5638"
      },
      "cell_type": "code",
      "source": [
        "import keras\n",
        "\n",
        "from keras.datasets import mnist\n",
        "\n",
        "from keras.models import Sequential\n",
        "from keras.layers import Dense, Dropout, Flatten\n",
        "from keras.layers import Conv2D, MaxPooling2D\n",
        "\n",
        "from keras import backend as K\n",
        "\n"
      ],
      "execution_count": 50,
      "outputs": [
        {
          "output_type": "stream",
          "text": [
            "Using TensorFlow backend.\n"
          ],
          "name": "stderr"
        }
      ]
    },
    {
      "metadata": {
        "id": "OWgVT1BTZw5G",
        "colab_type": "code",
        "colab": {
          "base_uri": "https://localhost:8080/",
          "height": 104
        },
        "outputId": "74870871-da4c-4955-b0d6-2ac8a0772d56"
      },
      "cell_type": "code",
      "source": [
        "batch_size = 128\n",
        "num_classes = 10\n",
        "epochs = 12\n",
        "\n",
        "# input image dimensions\n",
        "img_rows, img_cols = 28, 28\n",
        "\n",
        "# the data, split between train and test sets\n",
        "(x_train, y_train), (x_test, y_test) = mnist.load_data()\n",
        "\n",
        "if K.image_data_format() == 'channels_first':\n",
        "    x_train = x_train.reshape(x_train.shape[0], 1, img_rows, img_cols)\n",
        "    x_test = x_test.reshape(x_test.shape[0], 1, img_rows, img_cols)\n",
        "    input_shape = (1, img_rows, img_cols)\n",
        "else:\n",
        "    x_train = x_train.reshape(x_train.shape[0], img_rows, img_cols, 1)\n",
        "    x_test = x_test.reshape(x_test.shape[0], img_rows, img_cols, 1)\n",
        "    input_shape = (img_rows, img_cols, 1)\n",
        "\n",
        "x_train = x_train.astype('float32')\n",
        "x_test = x_test.astype('float32')\n",
        "\n",
        "x_train /= 255\n",
        "x_test /= 255\n",
        "\n",
        "print('x_train shape:', x_train.shape)\n",
        "print(x_train.shape[0], 'train samples')\n",
        "print(x_test.shape[0], 'test samples')\n",
        "\n"
      ],
      "execution_count": 51,
      "outputs": [
        {
          "output_type": "stream",
          "text": [
            "Downloading data from https://s3.amazonaws.com/img-datasets/mnist.npz\n",
            "11493376/11490434 [==============================] - 2s 0us/step\n",
            "x_train shape: (60000, 28, 28, 1)\n",
            "60000 train samples\n",
            "10000 test samples\n"
          ],
          "name": "stdout"
        }
      ]
    },
    {
      "metadata": {
        "id": "1d4Hbe5FZ5BT",
        "colab_type": "code",
        "colab": {}
      },
      "cell_type": "code",
      "source": [
        "# convert class vectors to binary class matrices\n",
        "y_train = keras.utils.to_categorical(y_train, num_classes)\n",
        "y_test = keras.utils.to_categorical(y_test, num_classes)\n",
        "\n"
      ],
      "execution_count": 0,
      "outputs": []
    },
    {
      "metadata": {
        "id": "ZRGBCL9_Z78-",
        "colab_type": "code",
        "colab": {}
      },
      "cell_type": "code",
      "source": [
        "model = Sequential()\n",
        "model.add(Conv2D(32, kernel_size=(3, 3),\n",
        "                 activation='relu',\n",
        "                 input_shape=input_shape))\n",
        "model.add(Conv2D(64, (3, 3), activation='relu'))\n",
        "model.add(MaxPooling2D(pool_size=(2, 2)))\n",
        "model.add(Dropout(0.25))\n",
        "model.add(Flatten())\n",
        "model.add(Dense(128, activation='relu'))\n",
        "model.add(Dropout(0.5))\n",
        "model.add(Dense(num_classes, activation='softmax'))\n",
        "\n"
      ],
      "execution_count": 0,
      "outputs": []
    },
    {
      "metadata": {
        "id": "Mto_dvC2Z9uJ",
        "colab_type": "code",
        "colab": {}
      },
      "cell_type": "code",
      "source": [
        "model.compile(loss=keras.losses.categorical_crossentropy,\n",
        "              optimizer=keras.optimizers.Adadelta(),\n",
        "              metrics=['accuracy'])\n",
        "\n"
      ],
      "execution_count": 0,
      "outputs": []
    },
    {
      "metadata": {
        "id": "dkzgwTHsaAEf",
        "colab_type": "code",
        "colab": {
          "base_uri": "https://localhost:8080/",
          "height": 1555
        },
        "outputId": "1ebe9f2b-148c-48c8-a56d-dcdd38f3c06e"
      },
      "cell_type": "code",
      "source": [
        "model.fit(x_train, y_train,\n",
        "          batch_size=batch_size,\n",
        "          epochs=epochs,\n",
        "          verbose=1,\n",
        "          validation_data=(x_test, y_test))\n"
      ],
      "execution_count": 55,
      "outputs": [
        {
          "output_type": "stream",
          "text": [
            "Train on 60000 samples, validate on 10000 samples\n",
            "Epoch 1/12\n",
            "60000/60000 [==============================] - 173s 3ms/step - loss: 0.2559 - acc: 0.9211 - val_loss: 0.0619 - val_acc: 0.9807\n",
            "Epoch 2/12\n",
            "60000/60000 [==============================] - 172s 3ms/step - loss: 0.0876 - acc: 0.9739 - val_loss: 0.0386 - val_acc: 0.9868\n",
            "Epoch 3/12\n",
            "17024/60000 [=======>......................] - ETA: 1:57 - loss: 0.0634 - acc: 0.9803"
          ],
          "name": "stdout"
        },
        {
          "output_type": "error",
          "ename": "KeyboardInterrupt",
          "evalue": "ignored",
          "traceback": [
            "\u001b[0;31m---------------------------------------------------------------------------\u001b[0m",
            "\u001b[0;31mKeyboardInterrupt\u001b[0m                         Traceback (most recent call last)",
            "\u001b[0;32m<ipython-input-55-9695118658e6>\u001b[0m in \u001b[0;36m<module>\u001b[0;34m()\u001b[0m\n\u001b[1;32m      3\u001b[0m           \u001b[0mepochs\u001b[0m\u001b[0;34m=\u001b[0m\u001b[0mepochs\u001b[0m\u001b[0;34m,\u001b[0m\u001b[0;34m\u001b[0m\u001b[0m\n\u001b[1;32m      4\u001b[0m           \u001b[0mverbose\u001b[0m\u001b[0;34m=\u001b[0m\u001b[0;36m1\u001b[0m\u001b[0;34m,\u001b[0m\u001b[0;34m\u001b[0m\u001b[0m\n\u001b[0;32m----> 5\u001b[0;31m           validation_data=(x_test, y_test))\n\u001b[0m",
            "\u001b[0;32m/usr/local/lib/python3.6/dist-packages/keras/models.py\u001b[0m in \u001b[0;36mfit\u001b[0;34m(self, x, y, batch_size, epochs, verbose, callbacks, validation_split, validation_data, shuffle, class_weight, sample_weight, initial_epoch, steps_per_epoch, validation_steps, **kwargs)\u001b[0m\n\u001b[1;32m   1000\u001b[0m                               \u001b[0minitial_epoch\u001b[0m\u001b[0;34m=\u001b[0m\u001b[0minitial_epoch\u001b[0m\u001b[0;34m,\u001b[0m\u001b[0;34m\u001b[0m\u001b[0m\n\u001b[1;32m   1001\u001b[0m                               \u001b[0msteps_per_epoch\u001b[0m\u001b[0;34m=\u001b[0m\u001b[0msteps_per_epoch\u001b[0m\u001b[0;34m,\u001b[0m\u001b[0;34m\u001b[0m\u001b[0m\n\u001b[0;32m-> 1002\u001b[0;31m                               validation_steps=validation_steps)\n\u001b[0m\u001b[1;32m   1003\u001b[0m \u001b[0;34m\u001b[0m\u001b[0m\n\u001b[1;32m   1004\u001b[0m     def evaluate(self, x=None, y=None,\n",
            "\u001b[0;32m/usr/local/lib/python3.6/dist-packages/keras/engine/training.py\u001b[0m in \u001b[0;36mfit\u001b[0;34m(self, x, y, batch_size, epochs, verbose, callbacks, validation_split, validation_data, shuffle, class_weight, sample_weight, initial_epoch, steps_per_epoch, validation_steps, **kwargs)\u001b[0m\n\u001b[1;32m   1703\u001b[0m                               \u001b[0minitial_epoch\u001b[0m\u001b[0;34m=\u001b[0m\u001b[0minitial_epoch\u001b[0m\u001b[0;34m,\u001b[0m\u001b[0;34m\u001b[0m\u001b[0m\n\u001b[1;32m   1704\u001b[0m                               \u001b[0msteps_per_epoch\u001b[0m\u001b[0;34m=\u001b[0m\u001b[0msteps_per_epoch\u001b[0m\u001b[0;34m,\u001b[0m\u001b[0;34m\u001b[0m\u001b[0m\n\u001b[0;32m-> 1705\u001b[0;31m                               validation_steps=validation_steps)\n\u001b[0m\u001b[1;32m   1706\u001b[0m \u001b[0;34m\u001b[0m\u001b[0m\n\u001b[1;32m   1707\u001b[0m     def evaluate(self, x=None, y=None,\n",
            "\u001b[0;32m/usr/local/lib/python3.6/dist-packages/keras/engine/training.py\u001b[0m in \u001b[0;36m_fit_loop\u001b[0;34m(self, f, ins, out_labels, batch_size, epochs, verbose, callbacks, val_f, val_ins, shuffle, callback_metrics, initial_epoch, steps_per_epoch, validation_steps)\u001b[0m\n\u001b[1;32m   1234\u001b[0m                         \u001b[0mins_batch\u001b[0m\u001b[0;34m[\u001b[0m\u001b[0mi\u001b[0m\u001b[0;34m]\u001b[0m \u001b[0;34m=\u001b[0m \u001b[0mins_batch\u001b[0m\u001b[0;34m[\u001b[0m\u001b[0mi\u001b[0m\u001b[0;34m]\u001b[0m\u001b[0;34m.\u001b[0m\u001b[0mtoarray\u001b[0m\u001b[0;34m(\u001b[0m\u001b[0;34m)\u001b[0m\u001b[0;34m\u001b[0m\u001b[0m\n\u001b[1;32m   1235\u001b[0m \u001b[0;34m\u001b[0m\u001b[0m\n\u001b[0;32m-> 1236\u001b[0;31m                     \u001b[0mouts\u001b[0m \u001b[0;34m=\u001b[0m \u001b[0mf\u001b[0m\u001b[0;34m(\u001b[0m\u001b[0mins_batch\u001b[0m\u001b[0;34m)\u001b[0m\u001b[0;34m\u001b[0m\u001b[0m\n\u001b[0m\u001b[1;32m   1237\u001b[0m                     \u001b[0;32mif\u001b[0m \u001b[0;32mnot\u001b[0m \u001b[0misinstance\u001b[0m\u001b[0;34m(\u001b[0m\u001b[0mouts\u001b[0m\u001b[0;34m,\u001b[0m \u001b[0mlist\u001b[0m\u001b[0;34m)\u001b[0m\u001b[0;34m:\u001b[0m\u001b[0;34m\u001b[0m\u001b[0m\n\u001b[1;32m   1238\u001b[0m                         \u001b[0mouts\u001b[0m \u001b[0;34m=\u001b[0m \u001b[0;34m[\u001b[0m\u001b[0mouts\u001b[0m\u001b[0;34m]\u001b[0m\u001b[0;34m\u001b[0m\u001b[0m\n",
            "\u001b[0;32m/usr/local/lib/python3.6/dist-packages/keras/backend/tensorflow_backend.py\u001b[0m in \u001b[0;36m__call__\u001b[0;34m(self, inputs)\u001b[0m\n\u001b[1;32m   2480\u001b[0m         \u001b[0msession\u001b[0m \u001b[0;34m=\u001b[0m \u001b[0mget_session\u001b[0m\u001b[0;34m(\u001b[0m\u001b[0;34m)\u001b[0m\u001b[0;34m\u001b[0m\u001b[0m\n\u001b[1;32m   2481\u001b[0m         updated = session.run(fetches=fetches, feed_dict=feed_dict,\n\u001b[0;32m-> 2482\u001b[0;31m                               **self.session_kwargs)\n\u001b[0m\u001b[1;32m   2483\u001b[0m         \u001b[0;32mreturn\u001b[0m \u001b[0mupdated\u001b[0m\u001b[0;34m[\u001b[0m\u001b[0;34m:\u001b[0m\u001b[0mlen\u001b[0m\u001b[0;34m(\u001b[0m\u001b[0mself\u001b[0m\u001b[0;34m.\u001b[0m\u001b[0moutputs\u001b[0m\u001b[0;34m)\u001b[0m\u001b[0;34m]\u001b[0m\u001b[0;34m\u001b[0m\u001b[0m\n\u001b[1;32m   2484\u001b[0m \u001b[0;34m\u001b[0m\u001b[0m\n",
            "\u001b[0;32m/usr/local/lib/python3.6/dist-packages/tensorflow/python/client/session.py\u001b[0m in \u001b[0;36mrun\u001b[0;34m(self, fetches, feed_dict, options, run_metadata)\u001b[0m\n\u001b[1;32m    875\u001b[0m     \u001b[0;32mtry\u001b[0m\u001b[0;34m:\u001b[0m\u001b[0;34m\u001b[0m\u001b[0m\n\u001b[1;32m    876\u001b[0m       result = self._run(None, fetches, feed_dict, options_ptr,\n\u001b[0;32m--> 877\u001b[0;31m                          run_metadata_ptr)\n\u001b[0m\u001b[1;32m    878\u001b[0m       \u001b[0;32mif\u001b[0m \u001b[0mrun_metadata\u001b[0m\u001b[0;34m:\u001b[0m\u001b[0;34m\u001b[0m\u001b[0m\n\u001b[1;32m    879\u001b[0m         \u001b[0mproto_data\u001b[0m \u001b[0;34m=\u001b[0m \u001b[0mtf_session\u001b[0m\u001b[0;34m.\u001b[0m\u001b[0mTF_GetBuffer\u001b[0m\u001b[0;34m(\u001b[0m\u001b[0mrun_metadata_ptr\u001b[0m\u001b[0;34m)\u001b[0m\u001b[0;34m\u001b[0m\u001b[0m\n",
            "\u001b[0;32m/usr/local/lib/python3.6/dist-packages/tensorflow/python/client/session.py\u001b[0m in \u001b[0;36m_run\u001b[0;34m(self, handle, fetches, feed_dict, options, run_metadata)\u001b[0m\n\u001b[1;32m   1098\u001b[0m     \u001b[0;32mif\u001b[0m \u001b[0mfinal_fetches\u001b[0m \u001b[0;32mor\u001b[0m \u001b[0mfinal_targets\u001b[0m \u001b[0;32mor\u001b[0m \u001b[0;34m(\u001b[0m\u001b[0mhandle\u001b[0m \u001b[0;32mand\u001b[0m \u001b[0mfeed_dict_tensor\u001b[0m\u001b[0;34m)\u001b[0m\u001b[0;34m:\u001b[0m\u001b[0;34m\u001b[0m\u001b[0m\n\u001b[1;32m   1099\u001b[0m       results = self._do_run(handle, final_targets, final_fetches,\n\u001b[0;32m-> 1100\u001b[0;31m                              feed_dict_tensor, options, run_metadata)\n\u001b[0m\u001b[1;32m   1101\u001b[0m     \u001b[0;32melse\u001b[0m\u001b[0;34m:\u001b[0m\u001b[0;34m\u001b[0m\u001b[0m\n\u001b[1;32m   1102\u001b[0m       \u001b[0mresults\u001b[0m \u001b[0;34m=\u001b[0m \u001b[0;34m[\u001b[0m\u001b[0;34m]\u001b[0m\u001b[0;34m\u001b[0m\u001b[0m\n",
            "\u001b[0;32m/usr/local/lib/python3.6/dist-packages/tensorflow/python/client/session.py\u001b[0m in \u001b[0;36m_do_run\u001b[0;34m(self, handle, target_list, fetch_list, feed_dict, options, run_metadata)\u001b[0m\n\u001b[1;32m   1270\u001b[0m     \u001b[0;32mif\u001b[0m \u001b[0mhandle\u001b[0m \u001b[0;32mis\u001b[0m \u001b[0;32mNone\u001b[0m\u001b[0;34m:\u001b[0m\u001b[0;34m\u001b[0m\u001b[0m\n\u001b[1;32m   1271\u001b[0m       return self._do_call(_run_fn, feeds, fetches, targets, options,\n\u001b[0;32m-> 1272\u001b[0;31m                            run_metadata)\n\u001b[0m\u001b[1;32m   1273\u001b[0m     \u001b[0;32melse\u001b[0m\u001b[0;34m:\u001b[0m\u001b[0;34m\u001b[0m\u001b[0m\n\u001b[1;32m   1274\u001b[0m       \u001b[0;32mreturn\u001b[0m \u001b[0mself\u001b[0m\u001b[0;34m.\u001b[0m\u001b[0m_do_call\u001b[0m\u001b[0;34m(\u001b[0m\u001b[0m_prun_fn\u001b[0m\u001b[0;34m,\u001b[0m \u001b[0mhandle\u001b[0m\u001b[0;34m,\u001b[0m \u001b[0mfeeds\u001b[0m\u001b[0;34m,\u001b[0m \u001b[0mfetches\u001b[0m\u001b[0;34m)\u001b[0m\u001b[0;34m\u001b[0m\u001b[0m\n",
            "\u001b[0;32m/usr/local/lib/python3.6/dist-packages/tensorflow/python/client/session.py\u001b[0m in \u001b[0;36m_do_call\u001b[0;34m(self, fn, *args)\u001b[0m\n\u001b[1;32m   1276\u001b[0m   \u001b[0;32mdef\u001b[0m \u001b[0m_do_call\u001b[0m\u001b[0;34m(\u001b[0m\u001b[0mself\u001b[0m\u001b[0;34m,\u001b[0m \u001b[0mfn\u001b[0m\u001b[0;34m,\u001b[0m \u001b[0;34m*\u001b[0m\u001b[0margs\u001b[0m\u001b[0;34m)\u001b[0m\u001b[0;34m:\u001b[0m\u001b[0;34m\u001b[0m\u001b[0m\n\u001b[1;32m   1277\u001b[0m     \u001b[0;32mtry\u001b[0m\u001b[0;34m:\u001b[0m\u001b[0;34m\u001b[0m\u001b[0m\n\u001b[0;32m-> 1278\u001b[0;31m       \u001b[0;32mreturn\u001b[0m \u001b[0mfn\u001b[0m\u001b[0;34m(\u001b[0m\u001b[0;34m*\u001b[0m\u001b[0margs\u001b[0m\u001b[0;34m)\u001b[0m\u001b[0;34m\u001b[0m\u001b[0m\n\u001b[0m\u001b[1;32m   1279\u001b[0m     \u001b[0;32mexcept\u001b[0m \u001b[0merrors\u001b[0m\u001b[0;34m.\u001b[0m\u001b[0mOpError\u001b[0m \u001b[0;32mas\u001b[0m \u001b[0me\u001b[0m\u001b[0;34m:\u001b[0m\u001b[0;34m\u001b[0m\u001b[0m\n\u001b[1;32m   1280\u001b[0m       \u001b[0mmessage\u001b[0m \u001b[0;34m=\u001b[0m \u001b[0mcompat\u001b[0m\u001b[0;34m.\u001b[0m\u001b[0mas_text\u001b[0m\u001b[0;34m(\u001b[0m\u001b[0me\u001b[0m\u001b[0;34m.\u001b[0m\u001b[0mmessage\u001b[0m\u001b[0;34m)\u001b[0m\u001b[0;34m\u001b[0m\u001b[0m\n",
            "\u001b[0;32m/usr/local/lib/python3.6/dist-packages/tensorflow/python/client/session.py\u001b[0m in \u001b[0;36m_run_fn\u001b[0;34m(feed_dict, fetch_list, target_list, options, run_metadata)\u001b[0m\n\u001b[1;32m   1261\u001b[0m       \u001b[0mself\u001b[0m\u001b[0;34m.\u001b[0m\u001b[0m_extend_graph\u001b[0m\u001b[0;34m(\u001b[0m\u001b[0;34m)\u001b[0m\u001b[0;34m\u001b[0m\u001b[0m\n\u001b[1;32m   1262\u001b[0m       return self._call_tf_sessionrun(\n\u001b[0;32m-> 1263\u001b[0;31m           options, feed_dict, fetch_list, target_list, run_metadata)\n\u001b[0m\u001b[1;32m   1264\u001b[0m \u001b[0;34m\u001b[0m\u001b[0m\n\u001b[1;32m   1265\u001b[0m     \u001b[0;32mdef\u001b[0m \u001b[0m_prun_fn\u001b[0m\u001b[0;34m(\u001b[0m\u001b[0mhandle\u001b[0m\u001b[0;34m,\u001b[0m \u001b[0mfeed_dict\u001b[0m\u001b[0;34m,\u001b[0m \u001b[0mfetch_list\u001b[0m\u001b[0;34m)\u001b[0m\u001b[0;34m:\u001b[0m\u001b[0;34m\u001b[0m\u001b[0m\n",
            "\u001b[0;32m/usr/local/lib/python3.6/dist-packages/tensorflow/python/client/session.py\u001b[0m in \u001b[0;36m_call_tf_sessionrun\u001b[0;34m(self, options, feed_dict, fetch_list, target_list, run_metadata)\u001b[0m\n\u001b[1;32m   1348\u001b[0m     return tf_session.TF_SessionRun_wrapper(\n\u001b[1;32m   1349\u001b[0m         \u001b[0mself\u001b[0m\u001b[0;34m.\u001b[0m\u001b[0m_session\u001b[0m\u001b[0;34m,\u001b[0m \u001b[0moptions\u001b[0m\u001b[0;34m,\u001b[0m \u001b[0mfeed_dict\u001b[0m\u001b[0;34m,\u001b[0m \u001b[0mfetch_list\u001b[0m\u001b[0;34m,\u001b[0m \u001b[0mtarget_list\u001b[0m\u001b[0;34m,\u001b[0m\u001b[0;34m\u001b[0m\u001b[0m\n\u001b[0;32m-> 1350\u001b[0;31m         run_metadata)\n\u001b[0m\u001b[1;32m   1351\u001b[0m \u001b[0;34m\u001b[0m\u001b[0m\n\u001b[1;32m   1352\u001b[0m   \u001b[0;32mdef\u001b[0m \u001b[0m_call_tf_sessionprun\u001b[0m\u001b[0;34m(\u001b[0m\u001b[0mself\u001b[0m\u001b[0;34m,\u001b[0m \u001b[0mhandle\u001b[0m\u001b[0;34m,\u001b[0m \u001b[0mfeed_dict\u001b[0m\u001b[0;34m,\u001b[0m \u001b[0mfetch_list\u001b[0m\u001b[0;34m)\u001b[0m\u001b[0;34m:\u001b[0m\u001b[0;34m\u001b[0m\u001b[0m\n",
            "\u001b[0;31mKeyboardInterrupt\u001b[0m: "
          ]
        }
      ]
    },
    {
      "metadata": {
        "id": "9DmcGWAaaBKI",
        "colab_type": "code",
        "colab": {}
      },
      "cell_type": "code",
      "source": [
        "score = model.evaluate(x_test, y_test, verbose=0)\n",
        "print('Test loss:', score[0])\n",
        "print('Test accuracy:', score[1])"
      ],
      "execution_count": 0,
      "outputs": []
    },
    {
      "metadata": {
        "id": "lgmSx3rtaMQZ",
        "colab_type": "text"
      },
      "cell_type": "markdown",
      "source": [
        "# Top resources IMO\n",
        "\n",
        "Best balance of theory and practicle ML \n",
        "![alt text](https://covers.oreillystatic.com/images/0636920052289/cat.gif)\n",
        "\n",
        "http://shop.oreilly.com/product/0636920052289.do\n",
        "\n",
        "\n",
        "\n",
        "\n",
        "---\n",
        "\n",
        "\n",
        "All of Andrew Ng's courses\n",
        "\n",
        "![alt text](data:image/jpeg;base64,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)\n",
        "\n",
        "https://www.coursera.org/courses?query=machine%20learning%20andrew%20ng\n",
        "\n",
        "Starting off with [original course](https://www.coursera.org/learn/machine-learning) that has you building different types of ML from scratch.\n",
        "\n",
        "And then on to his [Deep Learning courses](https://www.coursera.org/specializations/deep-learning) which are more practicle using Tensorflow and Keras to explain DNN CNN RNN etc\n"
      ]
    }
  ]
}